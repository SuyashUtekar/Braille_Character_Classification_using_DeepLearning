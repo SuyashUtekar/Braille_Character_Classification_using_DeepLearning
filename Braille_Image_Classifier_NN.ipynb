{
  "nbformat": 4,
  "nbformat_minor": 0,
  "metadata": {
    "colab": {
      "provenance": [],
      "gpuType": "T4"
    },
    "kernelspec": {
      "name": "python3",
      "display_name": "Python 3"
    },
    "language_info": {
      "name": "python"
    }
  },
  "cells": [
    {
      "cell_type": "code",
      "source": [
        "import os\n",
        "import numpy as np\n",
        "import pandas as pd\n",
        "from shutil import copyfile"
      ],
      "metadata": {
        "id": "kKPAd9XDDarF"
      },
      "execution_count": null,
      "outputs": []
    },
    {
      "cell_type": "code",
      "source": [
        "from google.colab import files\n",
        "files.upload()  # This will prompt you to upload the kaggle.json file"
      ],
      "metadata": {
        "id": "I5x0il0_EmFw"
      },
      "execution_count": null,
      "outputs": []
    },
    {
      "cell_type": "code",
      "source": [
        "!mkdir -p ~/.kaggle\n",
        "!cp kaggle.json ~/.kaggle/\n",
        "!chmod 600 ~/.kaggle/kaggle.json"
      ],
      "metadata": {
        "id": "o-PMTn5YEwJW"
      },
      "execution_count": null,
      "outputs": []
    },
    {
      "cell_type": "code",
      "source": [
        "!kaggle datasets download -d shanks0465/braille-character-dataset"
      ],
      "metadata": {
        "id": "WG414id7EzE-"
      },
      "execution_count": null,
      "outputs": []
    },
    {
      "cell_type": "code",
      "source": [
        "!unzip braille-character-dataset.zip -d braille_dataset"
      ],
      "metadata": {
        "id": "QX_D19ObFNoo"
      },
      "execution_count": null,
      "outputs": []
    },
    {
      "cell_type": "code",
      "source": [
        "# !rm -r ./images"
      ],
      "metadata": {
        "id": "UQAKBY3LGBCo"
      },
      "execution_count": null,
      "outputs": []
    },
    {
      "cell_type": "code",
      "source": [
        "import os\n",
        "from shutil import copyfile\n",
        "\n",
        "# Create the 'images' directory\n",
        "os.mkdir('./images/')\n",
        "\n",
        "# Create subdirectories for each letter (a to z)\n",
        "alpha = 'a'\n",
        "for i in range(26):\n",
        "    os.mkdir('./images/' + alpha)\n",
        "    alpha = chr(ord(alpha) + 1)\n",
        "\n",
        "# Define the root directory of the downloaded dataset\n",
        "rootdir = '/content/braille_dataset/Braille Dataset/Braille Dataset/'\n",
        "\n",
        "# Copy files to the corresponding directories\n",
        "for file in os.listdir(rootdir):\n",
        "    letter = file[0].lower()\n",
        "    copyfile(os.path.join(rootdir, file), './images/' + letter + '/' + file)"
      ],
      "metadata": {
        "id": "ZT54W8kxDaAD"
      },
      "execution_count": null,
      "outputs": []
    },
    {
      "cell_type": "code",
      "source": [
        "!pip install keras\n",
        "!pip install tensorflow"
      ],
      "metadata": {
        "id": "bzRZ9e4jCEZ5"
      },
      "execution_count": null,
      "outputs": []
    },
    {
      "cell_type": "code",
      "source": [
        "from tensorflow.keras.preprocessing.image import ImageDataGenerator\n",
        "\n",
        "datagen = ImageDataGenerator(rotation_range=20,\n",
        "                             shear_range=10,\n",
        "                             validation_split=0.2)\n",
        "\n",
        "train_generator = datagen.flow_from_directory('./images/',\n",
        "                                              target_size=(28,28),\n",
        "                                              subset='training')\n",
        "\n",
        "val_generator = datagen.flow_from_directory('./images/',\n",
        "                                            target_size=(28,28),\n",
        "                                            subset='validation')"
      ],
      "metadata": {
        "id": "X63mPFRZP5hE"
      },
      "execution_count": null,
      "outputs": []
    },
    {
      "cell_type": "code",
      "source": [
        "from keras import backend as K\n",
        "from keras import layers as L\n",
        "from keras.models import Model,load_model\n",
        "from keras.regularizers import l2\n",
        "from keras.callbacks import ModelCheckpoint,ReduceLROnPlateau,EarlyStopping\n",
        "\n",
        "K.clear_session()\n",
        "\n",
        "model_ckpt = ModelCheckpoint('BrailleNet.keras',save_best_only=True)\n",
        "reduce_lr = ReduceLROnPlateau(patience=8,verbose=0)\n",
        "early_stop = EarlyStopping(patience=15,verbose=1)\n",
        "\n",
        "entry = L.Input(shape=(28,28,3))\n",
        "x = L.SeparableConv2D(64,(3,3),activation='relu')(entry)\n",
        "x = L.MaxPooling2D((2,2))(x)\n",
        "x = L.SeparableConv2D(128,(3,3),activation='relu')(x)\n",
        "x = L.MaxPooling2D((2,2))(x)\n",
        "x = L.SeparableConv2D(256,(2,2),activation='relu')(x)\n",
        "x = L.GlobalMaxPooling2D()(x)\n",
        "x = L.Dense(256)(x)\n",
        "x = L.LeakyReLU()(x)\n",
        "x = L.Dense(64,kernel_regularizer=l2(2e-4))(x)\n",
        "x = L.LeakyReLU()(x)\n",
        "x = L.Dense(26,activation='softmax')(x)\n",
        "\n",
        "model = Model(entry,x)\n",
        "model.compile(loss='categorical_crossentropy',optimizer='adam',metrics=['accuracy'])\n",
        "\n",
        "history = model.fit(\n",
        "    train_generator,\n",
        "    validation_data=val_generator,\n",
        "    epochs=666,\n",
        "    callbacks=[model_ckpt, reduce_lr, early_stop],\n",
        "    verbose=1\n",
        ")\n"
      ],
      "metadata": {
        "id": "4PY2VNj8GkU-",
        "colab": {
          "base_uri": "https://localhost:8080/"
        },
        "outputId": "f464d1cb-455c-4ebf-ca5c-61ba8be20f11"
      },
      "execution_count": null,
      "outputs": [
        {
          "output_type": "stream",
          "name": "stdout",
          "text": [
            "Epoch 1/666\n"
          ]
        },
        {
          "output_type": "stream",
          "name": "stderr",
          "text": [
            "/usr/local/lib/python3.10/dist-packages/keras/src/trainers/data_adapters/py_dataset_adapter.py:121: UserWarning: Your `PyDataset` class should call `super().__init__(**kwargs)` in its constructor. `**kwargs` can include `workers`, `use_multiprocessing`, `max_queue_size`. Do not pass these arguments to `fit()`, as they will be ignored.\n",
            "  self._warn_if_super_not_called()\n"
          ]
        },
        {
          "output_type": "stream",
          "name": "stdout",
          "text": [
            "\u001b[1m39/39\u001b[0m \u001b[32m━━━━━━━━━━━━━━━━━━━━\u001b[0m\u001b[37m\u001b[0m \u001b[1m7s\u001b[0m 92ms/step - accuracy: 0.0405 - loss: 3.3441 - val_accuracy: 0.0385 - val_loss: 3.2627 - learning_rate: 0.0010\n",
            "Epoch 2/666\n",
            "\u001b[1m39/39\u001b[0m \u001b[32m━━━━━━━━━━━━━━━━━━━━\u001b[0m\u001b[37m\u001b[0m \u001b[1m4s\u001b[0m 73ms/step - accuracy: 0.0317 - loss: 3.2421 - val_accuracy: 0.1314 - val_loss: 3.0901 - learning_rate: 0.0010\n",
            "Epoch 3/666\n",
            "\u001b[1m39/39\u001b[0m \u001b[32m━━━━━━━━━━━━━━━━━━━━\u001b[0m\u001b[37m\u001b[0m \u001b[1m4s\u001b[0m 110ms/step - accuracy: 0.1185 - loss: 3.0532 - val_accuracy: 0.1923 - val_loss: 2.6882 - learning_rate: 0.0010\n",
            "Epoch 4/666\n",
            "\u001b[1m39/39\u001b[0m \u001b[32m━━━━━━━━━━━━━━━━━━━━\u001b[0m\u001b[37m\u001b[0m \u001b[1m4s\u001b[0m 73ms/step - accuracy: 0.2160 - loss: 2.6709 - val_accuracy: 0.3365 - val_loss: 2.2172 - learning_rate: 0.0010\n",
            "Epoch 5/666\n",
            "\u001b[1m39/39\u001b[0m \u001b[32m━━━━━━━━━━━━━━━━━━━━\u001b[0m\u001b[37m\u001b[0m \u001b[1m5s\u001b[0m 73ms/step - accuracy: 0.3938 - loss: 2.1527 - val_accuracy: 0.5128 - val_loss: 1.7435 - learning_rate: 0.0010\n",
            "Epoch 6/666\n",
            "\u001b[1m39/39\u001b[0m \u001b[32m━━━━━━━━━━━━━━━━━━━━\u001b[0m\u001b[37m\u001b[0m \u001b[1m6s\u001b[0m 82ms/step - accuracy: 0.4991 - loss: 1.7335 - val_accuracy: 0.5577 - val_loss: 1.4808 - learning_rate: 0.0010\n",
            "Epoch 7/666\n",
            "\u001b[1m39/39\u001b[0m \u001b[32m━━━━━━━━━━━━━━━━━━━━\u001b[0m\u001b[37m\u001b[0m \u001b[1m5s\u001b[0m 72ms/step - accuracy: 0.6107 - loss: 1.3173 - val_accuracy: 0.6186 - val_loss: 1.2509 - learning_rate: 0.0010\n",
            "Epoch 8/666\n",
            "\u001b[1m39/39\u001b[0m \u001b[32m━━━━━━━━━━━━━━━━━━━━\u001b[0m\u001b[37m\u001b[0m \u001b[1m3s\u001b[0m 72ms/step - accuracy: 0.6654 - loss: 1.0957 - val_accuracy: 0.7115 - val_loss: 0.9875 - learning_rate: 0.0010\n",
            "Epoch 9/666\n",
            "\u001b[1m39/39\u001b[0m \u001b[32m━━━━━━━━━━━━━━━━━━━━\u001b[0m\u001b[37m\u001b[0m \u001b[1m5s\u001b[0m 70ms/step - accuracy: 0.7232 - loss: 0.9712 - val_accuracy: 0.6442 - val_loss: 1.1559 - learning_rate: 0.0010\n",
            "Epoch 10/666\n",
            "\u001b[1m39/39\u001b[0m \u001b[32m━━━━━━━━━━━━━━━━━━━━\u001b[0m\u001b[37m\u001b[0m \u001b[1m3s\u001b[0m 72ms/step - accuracy: 0.7590 - loss: 0.8443 - val_accuracy: 0.7917 - val_loss: 0.7457 - learning_rate: 0.0010\n",
            "Epoch 11/666\n",
            "\u001b[1m39/39\u001b[0m \u001b[32m━━━━━━━━━━━━━━━━━━━━\u001b[0m\u001b[37m\u001b[0m \u001b[1m3s\u001b[0m 71ms/step - accuracy: 0.7597 - loss: 0.7678 - val_accuracy: 0.7532 - val_loss: 0.7735 - learning_rate: 0.0010\n",
            "Epoch 12/666\n",
            "\u001b[1m39/39\u001b[0m \u001b[32m━━━━━━━━━━━━━━━━━━━━\u001b[0m\u001b[37m\u001b[0m \u001b[1m4s\u001b[0m 110ms/step - accuracy: 0.8149 - loss: 0.6728 - val_accuracy: 0.7564 - val_loss: 0.7686 - learning_rate: 0.0010\n",
            "Epoch 13/666\n",
            "\u001b[1m39/39\u001b[0m \u001b[32m━━━━━━━━━━━━━━━━━━━━\u001b[0m\u001b[37m\u001b[0m \u001b[1m4s\u001b[0m 71ms/step - accuracy: 0.8208 - loss: 0.6355 - val_accuracy: 0.7692 - val_loss: 0.7781 - learning_rate: 0.0010\n",
            "Epoch 14/666\n",
            "\u001b[1m39/39\u001b[0m \u001b[32m━━━━━━━━━━━━━━━━━━━━\u001b[0m\u001b[37m\u001b[0m \u001b[1m3s\u001b[0m 72ms/step - accuracy: 0.8061 - loss: 0.6625 - val_accuracy: 0.8558 - val_loss: 0.5764 - learning_rate: 0.0010\n",
            "Epoch 15/666\n",
            "\u001b[1m39/39\u001b[0m \u001b[32m━━━━━━━━━━━━━━━━━━━━\u001b[0m\u001b[37m\u001b[0m \u001b[1m6s\u001b[0m 102ms/step - accuracy: 0.8324 - loss: 0.6031 - val_accuracy: 0.8429 - val_loss: 0.5970 - learning_rate: 0.0010\n",
            "Epoch 16/666\n",
            "\u001b[1m39/39\u001b[0m \u001b[32m━━━━━━━━━━━━━━━━━━━━\u001b[0m\u001b[37m\u001b[0m \u001b[1m4s\u001b[0m 71ms/step - accuracy: 0.8760 - loss: 0.4505 - val_accuracy: 0.8397 - val_loss: 0.5906 - learning_rate: 0.0010\n",
            "Epoch 17/666\n",
            "\u001b[1m39/39\u001b[0m \u001b[32m━━━━━━━━━━━━━━━━━━━━\u001b[0m\u001b[37m\u001b[0m \u001b[1m5s\u001b[0m 71ms/step - accuracy: 0.9004 - loss: 0.3429 - val_accuracy: 0.8429 - val_loss: 0.5231 - learning_rate: 0.0010\n",
            "Epoch 18/666\n",
            "\u001b[1m39/39\u001b[0m \u001b[32m━━━━━━━━━━━━━━━━━━━━\u001b[0m\u001b[37m\u001b[0m \u001b[1m6s\u001b[0m 91ms/step - accuracy: 0.8655 - loss: 0.4371 - val_accuracy: 0.8269 - val_loss: 0.6621 - learning_rate: 0.0010\n",
            "Epoch 19/666\n",
            "\u001b[1m39/39\u001b[0m \u001b[32m━━━━━━━━━━━━━━━━━━━━\u001b[0m\u001b[37m\u001b[0m \u001b[1m4s\u001b[0m 70ms/step - accuracy: 0.8832 - loss: 0.4136 - val_accuracy: 0.8429 - val_loss: 0.6479 - learning_rate: 0.0010\n",
            "Epoch 20/666\n",
            "\u001b[1m39/39\u001b[0m \u001b[32m━━━━━━━━━━━━━━━━━━━━\u001b[0m\u001b[37m\u001b[0m \u001b[1m6s\u001b[0m 84ms/step - accuracy: 0.8803 - loss: 0.4066 - val_accuracy: 0.7917 - val_loss: 0.6964 - learning_rate: 0.0010\n",
            "Epoch 21/666\n",
            "\u001b[1m39/39\u001b[0m \u001b[32m━━━━━━━━━━━━━━━━━━━━\u001b[0m\u001b[37m\u001b[0m \u001b[1m4s\u001b[0m 88ms/step - accuracy: 0.8809 - loss: 0.3947 - val_accuracy: 0.8590 - val_loss: 0.4940 - learning_rate: 0.0010\n",
            "Epoch 22/666\n",
            "\u001b[1m39/39\u001b[0m \u001b[32m━━━━━━━━━━━━━━━━━━━━\u001b[0m\u001b[37m\u001b[0m \u001b[1m4s\u001b[0m 72ms/step - accuracy: 0.9076 - loss: 0.3283 - val_accuracy: 0.8974 - val_loss: 0.4756 - learning_rate: 0.0010\n",
            "Epoch 23/666\n",
            "\u001b[1m39/39\u001b[0m \u001b[32m━━━━━━━━━━━━━━━━━━━━\u001b[0m\u001b[37m\u001b[0m \u001b[1m6s\u001b[0m 89ms/step - accuracy: 0.9214 - loss: 0.2685 - val_accuracy: 0.8878 - val_loss: 0.4530 - learning_rate: 0.0010\n",
            "Epoch 24/666\n",
            "\u001b[1m39/39\u001b[0m \u001b[32m━━━━━━━━━━━━━━━━━━━━\u001b[0m\u001b[37m\u001b[0m \u001b[1m4s\u001b[0m 69ms/step - accuracy: 0.9285 - loss: 0.2771 - val_accuracy: 0.8590 - val_loss: 0.5030 - learning_rate: 0.0010\n",
            "Epoch 25/666\n",
            "\u001b[1m39/39\u001b[0m \u001b[32m━━━━━━━━━━━━━━━━━━━━\u001b[0m\u001b[37m\u001b[0m \u001b[1m3s\u001b[0m 70ms/step - accuracy: 0.9045 - loss: 0.2736 - val_accuracy: 0.8846 - val_loss: 0.4019 - learning_rate: 0.0010\n",
            "Epoch 26/666\n",
            "\u001b[1m39/39\u001b[0m \u001b[32m━━━━━━━━━━━━━━━━━━━━\u001b[0m\u001b[37m\u001b[0m \u001b[1m6s\u001b[0m 102ms/step - accuracy: 0.9412 - loss: 0.2245 - val_accuracy: 0.8814 - val_loss: 0.3997 - learning_rate: 0.0010\n",
            "Epoch 27/666\n",
            "\u001b[1m39/39\u001b[0m \u001b[32m━━━━━━━━━━━━━━━━━━━━\u001b[0m\u001b[37m\u001b[0m \u001b[1m4s\u001b[0m 69ms/step - accuracy: 0.9271 - loss: 0.2597 - val_accuracy: 0.8718 - val_loss: 0.4722 - learning_rate: 0.0010\n",
            "Epoch 28/666\n",
            "\u001b[1m39/39\u001b[0m \u001b[32m━━━━━━━━━━━━━━━━━━━━\u001b[0m\u001b[37m\u001b[0m \u001b[1m3s\u001b[0m 70ms/step - accuracy: 0.9257 - loss: 0.2824 - val_accuracy: 0.8558 - val_loss: 0.5592 - learning_rate: 0.0010\n",
            "Epoch 29/666\n",
            "\u001b[1m39/39\u001b[0m \u001b[32m━━━━━━━━━━━━━━━━━━━━\u001b[0m\u001b[37m\u001b[0m \u001b[1m3s\u001b[0m 73ms/step - accuracy: 0.9246 - loss: 0.2776 - val_accuracy: 0.8910 - val_loss: 0.4049 - learning_rate: 0.0010\n",
            "Epoch 30/666\n",
            "\u001b[1m39/39\u001b[0m \u001b[32m━━━━━━━━━━━━━━━━━━━━\u001b[0m\u001b[37m\u001b[0m \u001b[1m5s\u001b[0m 112ms/step - accuracy: 0.9310 - loss: 0.2134 - val_accuracy: 0.8718 - val_loss: 0.5494 - learning_rate: 0.0010\n",
            "Epoch 31/666\n",
            "\u001b[1m39/39\u001b[0m \u001b[32m━━━━━━━━━━━━━━━━━━━━\u001b[0m\u001b[37m\u001b[0m \u001b[1m4s\u001b[0m 71ms/step - accuracy: 0.9497 - loss: 0.1993 - val_accuracy: 0.9038 - val_loss: 0.4253 - learning_rate: 0.0010\n",
            "Epoch 32/666\n",
            "\u001b[1m39/39\u001b[0m \u001b[32m━━━━━━━━━━━━━━━━━━━━\u001b[0m\u001b[37m\u001b[0m \u001b[1m5s\u001b[0m 72ms/step - accuracy: 0.9143 - loss: 0.2891 - val_accuracy: 0.9199 - val_loss: 0.3466 - learning_rate: 0.0010\n",
            "Epoch 33/666\n",
            "\u001b[1m39/39\u001b[0m \u001b[32m━━━━━━━━━━━━━━━━━━━━\u001b[0m\u001b[37m\u001b[0m \u001b[1m6s\u001b[0m 80ms/step - accuracy: 0.9334 - loss: 0.2186 - val_accuracy: 0.9103 - val_loss: 0.2801 - learning_rate: 0.0010\n",
            "Epoch 34/666\n",
            "\u001b[1m39/39\u001b[0m \u001b[32m━━━━━━━━━━━━━━━━━━━━\u001b[0m\u001b[37m\u001b[0m \u001b[1m3s\u001b[0m 69ms/step - accuracy: 0.9670 - loss: 0.1403 - val_accuracy: 0.8814 - val_loss: 0.4517 - learning_rate: 0.0010\n",
            "Epoch 35/666\n",
            "\u001b[1m39/39\u001b[0m \u001b[32m━━━━━━━━━━━━━━━━━━━━\u001b[0m\u001b[37m\u001b[0m \u001b[1m3s\u001b[0m 69ms/step - accuracy: 0.9392 - loss: 0.1812 - val_accuracy: 0.9038 - val_loss: 0.3760 - learning_rate: 0.0010\n",
            "Epoch 36/666\n",
            "\u001b[1m39/39\u001b[0m \u001b[32m━━━━━━━━━━━━━━━━━━━━\u001b[0m\u001b[37m\u001b[0m \u001b[1m7s\u001b[0m 103ms/step - accuracy: 0.9359 - loss: 0.2406 - val_accuracy: 0.8974 - val_loss: 0.4588 - learning_rate: 0.0010\n",
            "Epoch 37/666\n",
            "\u001b[1m39/39\u001b[0m \u001b[32m━━━━━━━━━━━━━━━━━━━━\u001b[0m\u001b[37m\u001b[0m \u001b[1m4s\u001b[0m 84ms/step - accuracy: 0.9430 - loss: 0.2183 - val_accuracy: 0.8526 - val_loss: 0.6380 - learning_rate: 0.0010\n",
            "Epoch 38/666\n",
            "\u001b[1m39/39\u001b[0m \u001b[32m━━━━━━━━━━━━━━━━━━━━\u001b[0m\u001b[37m\u001b[0m \u001b[1m3s\u001b[0m 71ms/step - accuracy: 0.9096 - loss: 0.2887 - val_accuracy: 0.8910 - val_loss: 0.4318 - learning_rate: 0.0010\n",
            "Epoch 39/666\n",
            "\u001b[1m39/39\u001b[0m \u001b[32m━━━━━━━━━━━━━━━━━━━━\u001b[0m\u001b[37m\u001b[0m \u001b[1m6s\u001b[0m 89ms/step - accuracy: 0.9462 - loss: 0.1789 - val_accuracy: 0.9295 - val_loss: 0.3245 - learning_rate: 0.0010\n",
            "Epoch 40/666\n",
            "\u001b[1m39/39\u001b[0m \u001b[32m━━━━━━━━━━━━━━━━━━━━\u001b[0m\u001b[37m\u001b[0m \u001b[1m4s\u001b[0m 71ms/step - accuracy: 0.9622 - loss: 0.1390 - val_accuracy: 0.9167 - val_loss: 0.3504 - learning_rate: 0.0010\n",
            "Epoch 41/666\n",
            "\u001b[1m39/39\u001b[0m \u001b[32m━━━━━━━━━━━━━━━━━━━━\u001b[0m\u001b[37m\u001b[0m \u001b[1m3s\u001b[0m 71ms/step - accuracy: 0.9569 - loss: 0.1635 - val_accuracy: 0.9167 - val_loss: 0.3495 - learning_rate: 0.0010\n",
            "Epoch 42/666\n",
            "\u001b[1m39/39\u001b[0m \u001b[32m━━━━━━━━━━━━━━━━━━━━\u001b[0m\u001b[37m\u001b[0m \u001b[1m4s\u001b[0m 104ms/step - accuracy: 0.9743 - loss: 0.1053 - val_accuracy: 0.9327 - val_loss: 0.2574 - learning_rate: 1.0000e-04\n",
            "Epoch 43/666\n",
            "\u001b[1m39/39\u001b[0m \u001b[32m━━━━━━━━━━━━━━━━━━━━\u001b[0m\u001b[37m\u001b[0m \u001b[1m4s\u001b[0m 69ms/step - accuracy: 0.9748 - loss: 0.1029 - val_accuracy: 0.9423 - val_loss: 0.2870 - learning_rate: 1.0000e-04\n",
            "Epoch 44/666\n",
            "\u001b[1m39/39\u001b[0m \u001b[32m━━━━━━━━━━━━━━━━━━━━\u001b[0m\u001b[37m\u001b[0m \u001b[1m5s\u001b[0m 73ms/step - accuracy: 0.9841 - loss: 0.0785 - val_accuracy: 0.9391 - val_loss: 0.2509 - learning_rate: 1.0000e-04\n",
            "Epoch 45/666\n",
            "\u001b[1m39/39\u001b[0m \u001b[32m━━━━━━━━━━━━━━━━━━━━\u001b[0m\u001b[37m\u001b[0m \u001b[1m6s\u001b[0m 89ms/step - accuracy: 0.9889 - loss: 0.0740 - val_accuracy: 0.9551 - val_loss: 0.2654 - learning_rate: 1.0000e-04\n",
            "Epoch 46/666\n",
            "\u001b[1m39/39\u001b[0m \u001b[32m━━━━━━━━━━━━━━━━━━━━\u001b[0m\u001b[37m\u001b[0m \u001b[1m3s\u001b[0m 72ms/step - accuracy: 0.9903 - loss: 0.0703 - val_accuracy: 0.9487 - val_loss: 0.2426 - learning_rate: 1.0000e-04\n",
            "Epoch 47/666\n",
            "\u001b[1m39/39\u001b[0m \u001b[32m━━━━━━━━━━━━━━━━━━━━\u001b[0m\u001b[37m\u001b[0m \u001b[1m3s\u001b[0m 72ms/step - accuracy: 0.9900 - loss: 0.0719 - val_accuracy: 0.9359 - val_loss: 0.2410 - learning_rate: 1.0000e-04\n",
            "Epoch 48/666\n",
            "\u001b[1m39/39\u001b[0m \u001b[32m━━━━━━━━━━━━━━━━━━━━\u001b[0m\u001b[37m\u001b[0m \u001b[1m4s\u001b[0m 90ms/step - accuracy: 0.9906 - loss: 0.0648 - val_accuracy: 0.9487 - val_loss: 0.2746 - learning_rate: 1.0000e-04\n",
            "Epoch 49/666\n",
            "\u001b[1m39/39\u001b[0m \u001b[32m━━━━━━━━━━━━━━━━━━━━\u001b[0m\u001b[37m\u001b[0m \u001b[1m4s\u001b[0m 73ms/step - accuracy: 0.9931 - loss: 0.0634 - val_accuracy: 0.9583 - val_loss: 0.1885 - learning_rate: 1.0000e-04\n",
            "Epoch 50/666\n",
            "\u001b[1m39/39\u001b[0m \u001b[32m━━━━━━━━━━━━━━━━━━━━\u001b[0m\u001b[37m\u001b[0m \u001b[1m5s\u001b[0m 70ms/step - accuracy: 0.9853 - loss: 0.0744 - val_accuracy: 0.9135 - val_loss: 0.2959 - learning_rate: 1.0000e-04\n",
            "Epoch 51/666\n",
            "\u001b[1m39/39\u001b[0m \u001b[32m━━━━━━━━━━━━━━━━━━━━\u001b[0m\u001b[37m\u001b[0m \u001b[1m4s\u001b[0m 100ms/step - accuracy: 0.9860 - loss: 0.0696 - val_accuracy: 0.9551 - val_loss: 0.2348 - learning_rate: 1.0000e-04\n",
            "Epoch 52/666\n",
            "\u001b[1m39/39\u001b[0m \u001b[32m━━━━━━━━━━━━━━━━━━━━\u001b[0m\u001b[37m\u001b[0m \u001b[1m4s\u001b[0m 74ms/step - accuracy: 0.9866 - loss: 0.0662 - val_accuracy: 0.9327 - val_loss: 0.3094 - learning_rate: 1.0000e-04\n",
            "Epoch 53/666\n",
            "\u001b[1m39/39\u001b[0m \u001b[32m━━━━━━━━━━━━━━━━━━━━\u001b[0m\u001b[37m\u001b[0m \u001b[1m5s\u001b[0m 72ms/step - accuracy: 0.9902 - loss: 0.0648 - val_accuracy: 0.9423 - val_loss: 0.2598 - learning_rate: 1.0000e-04\n",
            "Epoch 54/666\n",
            "\u001b[1m39/39\u001b[0m \u001b[32m━━━━━━━━━━━━━━━━━━━━\u001b[0m\u001b[37m\u001b[0m \u001b[1m6s\u001b[0m 87ms/step - accuracy: 0.9886 - loss: 0.0786 - val_accuracy: 0.9583 - val_loss: 0.2055 - learning_rate: 1.0000e-04\n",
            "Epoch 55/666\n",
            "\u001b[1m39/39\u001b[0m \u001b[32m━━━━━━━━━━━━━━━━━━━━\u001b[0m\u001b[37m\u001b[0m \u001b[1m5s\u001b[0m 78ms/step - accuracy: 0.9877 - loss: 0.0693 - val_accuracy: 0.9359 - val_loss: 0.2372 - learning_rate: 1.0000e-04\n",
            "Epoch 56/666\n",
            "\u001b[1m39/39\u001b[0m \u001b[32m━━━━━━━━━━━━━━━━━━━━\u001b[0m\u001b[37m\u001b[0m \u001b[1m3s\u001b[0m 71ms/step - accuracy: 0.9941 - loss: 0.0633 - val_accuracy: 0.9423 - val_loss: 0.2250 - learning_rate: 1.0000e-04\n",
            "Epoch 57/666\n",
            "\u001b[1m39/39\u001b[0m \u001b[32m━━━━━━━━━━━━━━━━━━━━\u001b[0m\u001b[37m\u001b[0m \u001b[1m5s\u001b[0m 71ms/step - accuracy: 0.9839 - loss: 0.0745 - val_accuracy: 0.9551 - val_loss: 0.2201 - learning_rate: 1.0000e-04\n",
            "Epoch 58/666\n",
            "\u001b[1m39/39\u001b[0m \u001b[32m━━━━━━━━━━━━━━━━━━━━\u001b[0m\u001b[37m\u001b[0m \u001b[1m3s\u001b[0m 70ms/step - accuracy: 0.9889 - loss: 0.0682 - val_accuracy: 0.9391 - val_loss: 0.2954 - learning_rate: 1.0000e-05\n",
            "Epoch 59/666\n",
            "\u001b[1m39/39\u001b[0m \u001b[32m━━━━━━━━━━━━━━━━━━━━\u001b[0m\u001b[37m\u001b[0m \u001b[1m3s\u001b[0m 77ms/step - accuracy: 0.9912 - loss: 0.0731 - val_accuracy: 0.9583 - val_loss: 0.2299 - learning_rate: 1.0000e-05\n",
            "Epoch 60/666\n",
            "\u001b[1m39/39\u001b[0m \u001b[32m━━━━━━━━━━━━━━━━━━━━\u001b[0m\u001b[37m\u001b[0m \u001b[1m5s\u001b[0m 82ms/step - accuracy: 0.9920 - loss: 0.0705 - val_accuracy: 0.9455 - val_loss: 0.2545 - learning_rate: 1.0000e-05\n",
            "Epoch 61/666\n",
            "\u001b[1m39/39\u001b[0m \u001b[32m━━━━━━━━━━━━━━━━━━━━\u001b[0m\u001b[37m\u001b[0m \u001b[1m3s\u001b[0m 69ms/step - accuracy: 0.9903 - loss: 0.0633 - val_accuracy: 0.9295 - val_loss: 0.2560 - learning_rate: 1.0000e-05\n",
            "Epoch 62/666\n",
            "\u001b[1m39/39\u001b[0m \u001b[32m━━━━━━━━━━━━━━━━━━━━\u001b[0m\u001b[37m\u001b[0m \u001b[1m5s\u001b[0m 71ms/step - accuracy: 0.9933 - loss: 0.0598 - val_accuracy: 0.9327 - val_loss: 0.2587 - learning_rate: 1.0000e-05\n",
            "Epoch 63/666\n",
            "\u001b[1m39/39\u001b[0m \u001b[32m━━━━━━━━━━━━━━━━━━━━\u001b[0m\u001b[37m\u001b[0m \u001b[1m5s\u001b[0m 70ms/step - accuracy: 0.9943 - loss: 0.0529 - val_accuracy: 0.9455 - val_loss: 0.2464 - learning_rate: 1.0000e-05\n",
            "Epoch 64/666\n",
            "\u001b[1m39/39\u001b[0m \u001b[32m━━━━━━━━━━━━━━━━━━━━\u001b[0m\u001b[37m\u001b[0m \u001b[1m3s\u001b[0m 70ms/step - accuracy: 0.9846 - loss: 0.0751 - val_accuracy: 0.9551 - val_loss: 0.2137 - learning_rate: 1.0000e-05\n",
            "Epoch 64: early stopping\n"
          ]
        }
      ]
    },
    {
      "cell_type": "code",
      "source": [
        "model.summary()"
      ],
      "metadata": {
        "colab": {
          "base_uri": "https://localhost:8080/",
          "height": 557
        },
        "id": "C5CoWRRCHs8_",
        "outputId": "e943bd6c-c62d-4451-e053-32b81190e00d"
      },
      "execution_count": null,
      "outputs": [
        {
          "output_type": "display_data",
          "data": {
            "text/plain": [
              "\u001b[1mModel: \"functional\"\u001b[0m\n"
            ],
            "text/html": [
              "<pre style=\"white-space:pre;overflow-x:auto;line-height:normal;font-family:Menlo,'DejaVu Sans Mono',consolas,'Courier New',monospace\"><span style=\"font-weight: bold\">Model: \"functional\"</span>\n",
              "</pre>\n"
            ]
          },
          "metadata": {}
        },
        {
          "output_type": "display_data",
          "data": {
            "text/plain": [
              "┏━━━━━━━━━━━━━━━━━━━━━━━━━━━━━━━━━━━━━━┳━━━━━━━━━━━━━━━━━━━━━━━━━━━━━┳━━━━━━━━━━━━━━━━━┓\n",
              "┃\u001b[1m \u001b[0m\u001b[1mLayer (type)                        \u001b[0m\u001b[1m \u001b[0m┃\u001b[1m \u001b[0m\u001b[1mOutput Shape               \u001b[0m\u001b[1m \u001b[0m┃\u001b[1m \u001b[0m\u001b[1m        Param #\u001b[0m\u001b[1m \u001b[0m┃\n",
              "┡━━━━━━━━━━━━━━━━━━━━━━━━━━━━━━━━━━━━━━╇━━━━━━━━━━━━━━━━━━━━━━━━━━━━━╇━━━━━━━━━━━━━━━━━┩\n",
              "│ input_layer (\u001b[38;5;33mInputLayer\u001b[0m)             │ (\u001b[38;5;45mNone\u001b[0m, \u001b[38;5;34m28\u001b[0m, \u001b[38;5;34m28\u001b[0m, \u001b[38;5;34m3\u001b[0m)           │               \u001b[38;5;34m0\u001b[0m │\n",
              "├──────────────────────────────────────┼─────────────────────────────┼─────────────────┤\n",
              "│ separable_conv2d (\u001b[38;5;33mSeparableConv2D\u001b[0m)   │ (\u001b[38;5;45mNone\u001b[0m, \u001b[38;5;34m26\u001b[0m, \u001b[38;5;34m26\u001b[0m, \u001b[38;5;34m64\u001b[0m)          │             \u001b[38;5;34m283\u001b[0m │\n",
              "├──────────────────────────────────────┼─────────────────────────────┼─────────────────┤\n",
              "│ max_pooling2d (\u001b[38;5;33mMaxPooling2D\u001b[0m)         │ (\u001b[38;5;45mNone\u001b[0m, \u001b[38;5;34m13\u001b[0m, \u001b[38;5;34m13\u001b[0m, \u001b[38;5;34m64\u001b[0m)          │               \u001b[38;5;34m0\u001b[0m │\n",
              "├──────────────────────────────────────┼─────────────────────────────┼─────────────────┤\n",
              "│ separable_conv2d_1 (\u001b[38;5;33mSeparableConv2D\u001b[0m) │ (\u001b[38;5;45mNone\u001b[0m, \u001b[38;5;34m11\u001b[0m, \u001b[38;5;34m11\u001b[0m, \u001b[38;5;34m128\u001b[0m)         │           \u001b[38;5;34m8,896\u001b[0m │\n",
              "├──────────────────────────────────────┼─────────────────────────────┼─────────────────┤\n",
              "│ max_pooling2d_1 (\u001b[38;5;33mMaxPooling2D\u001b[0m)       │ (\u001b[38;5;45mNone\u001b[0m, \u001b[38;5;34m5\u001b[0m, \u001b[38;5;34m5\u001b[0m, \u001b[38;5;34m128\u001b[0m)           │               \u001b[38;5;34m0\u001b[0m │\n",
              "├──────────────────────────────────────┼─────────────────────────────┼─────────────────┤\n",
              "│ separable_conv2d_2 (\u001b[38;5;33mSeparableConv2D\u001b[0m) │ (\u001b[38;5;45mNone\u001b[0m, \u001b[38;5;34m4\u001b[0m, \u001b[38;5;34m4\u001b[0m, \u001b[38;5;34m256\u001b[0m)           │          \u001b[38;5;34m33,536\u001b[0m │\n",
              "├──────────────────────────────────────┼─────────────────────────────┼─────────────────┤\n",
              "│ global_max_pooling2d                 │ (\u001b[38;5;45mNone\u001b[0m, \u001b[38;5;34m256\u001b[0m)                 │               \u001b[38;5;34m0\u001b[0m │\n",
              "│ (\u001b[38;5;33mGlobalMaxPooling2D\u001b[0m)                 │                             │                 │\n",
              "├──────────────────────────────────────┼─────────────────────────────┼─────────────────┤\n",
              "│ dense (\u001b[38;5;33mDense\u001b[0m)                        │ (\u001b[38;5;45mNone\u001b[0m, \u001b[38;5;34m256\u001b[0m)                 │          \u001b[38;5;34m65,792\u001b[0m │\n",
              "├──────────────────────────────────────┼─────────────────────────────┼─────────────────┤\n",
              "│ leaky_re_lu (\u001b[38;5;33mLeakyReLU\u001b[0m)              │ (\u001b[38;5;45mNone\u001b[0m, \u001b[38;5;34m256\u001b[0m)                 │               \u001b[38;5;34m0\u001b[0m │\n",
              "├──────────────────────────────────────┼─────────────────────────────┼─────────────────┤\n",
              "│ dense_1 (\u001b[38;5;33mDense\u001b[0m)                      │ (\u001b[38;5;45mNone\u001b[0m, \u001b[38;5;34m64\u001b[0m)                  │          \u001b[38;5;34m16,448\u001b[0m │\n",
              "├──────────────────────────────────────┼─────────────────────────────┼─────────────────┤\n",
              "│ leaky_re_lu_1 (\u001b[38;5;33mLeakyReLU\u001b[0m)            │ (\u001b[38;5;45mNone\u001b[0m, \u001b[38;5;34m64\u001b[0m)                  │               \u001b[38;5;34m0\u001b[0m │\n",
              "├──────────────────────────────────────┼─────────────────────────────┼─────────────────┤\n",
              "│ dense_2 (\u001b[38;5;33mDense\u001b[0m)                      │ (\u001b[38;5;45mNone\u001b[0m, \u001b[38;5;34m26\u001b[0m)                  │           \u001b[38;5;34m1,690\u001b[0m │\n",
              "└──────────────────────────────────────┴─────────────────────────────┴─────────────────┘\n"
            ],
            "text/html": [
              "<pre style=\"white-space:pre;overflow-x:auto;line-height:normal;font-family:Menlo,'DejaVu Sans Mono',consolas,'Courier New',monospace\">┏━━━━━━━━━━━━━━━━━━━━━━━━━━━━━━━━━━━━━━┳━━━━━━━━━━━━━━━━━━━━━━━━━━━━━┳━━━━━━━━━━━━━━━━━┓\n",
              "┃<span style=\"font-weight: bold\"> Layer (type)                         </span>┃<span style=\"font-weight: bold\"> Output Shape                </span>┃<span style=\"font-weight: bold\">         Param # </span>┃\n",
              "┡━━━━━━━━━━━━━━━━━━━━━━━━━━━━━━━━━━━━━━╇━━━━━━━━━━━━━━━━━━━━━━━━━━━━━╇━━━━━━━━━━━━━━━━━┩\n",
              "│ input_layer (<span style=\"color: #0087ff; text-decoration-color: #0087ff\">InputLayer</span>)             │ (<span style=\"color: #00d7ff; text-decoration-color: #00d7ff\">None</span>, <span style=\"color: #00af00; text-decoration-color: #00af00\">28</span>, <span style=\"color: #00af00; text-decoration-color: #00af00\">28</span>, <span style=\"color: #00af00; text-decoration-color: #00af00\">3</span>)           │               <span style=\"color: #00af00; text-decoration-color: #00af00\">0</span> │\n",
              "├──────────────────────────────────────┼─────────────────────────────┼─────────────────┤\n",
              "│ separable_conv2d (<span style=\"color: #0087ff; text-decoration-color: #0087ff\">SeparableConv2D</span>)   │ (<span style=\"color: #00d7ff; text-decoration-color: #00d7ff\">None</span>, <span style=\"color: #00af00; text-decoration-color: #00af00\">26</span>, <span style=\"color: #00af00; text-decoration-color: #00af00\">26</span>, <span style=\"color: #00af00; text-decoration-color: #00af00\">64</span>)          │             <span style=\"color: #00af00; text-decoration-color: #00af00\">283</span> │\n",
              "├──────────────────────────────────────┼─────────────────────────────┼─────────────────┤\n",
              "│ max_pooling2d (<span style=\"color: #0087ff; text-decoration-color: #0087ff\">MaxPooling2D</span>)         │ (<span style=\"color: #00d7ff; text-decoration-color: #00d7ff\">None</span>, <span style=\"color: #00af00; text-decoration-color: #00af00\">13</span>, <span style=\"color: #00af00; text-decoration-color: #00af00\">13</span>, <span style=\"color: #00af00; text-decoration-color: #00af00\">64</span>)          │               <span style=\"color: #00af00; text-decoration-color: #00af00\">0</span> │\n",
              "├──────────────────────────────────────┼─────────────────────────────┼─────────────────┤\n",
              "│ separable_conv2d_1 (<span style=\"color: #0087ff; text-decoration-color: #0087ff\">SeparableConv2D</span>) │ (<span style=\"color: #00d7ff; text-decoration-color: #00d7ff\">None</span>, <span style=\"color: #00af00; text-decoration-color: #00af00\">11</span>, <span style=\"color: #00af00; text-decoration-color: #00af00\">11</span>, <span style=\"color: #00af00; text-decoration-color: #00af00\">128</span>)         │           <span style=\"color: #00af00; text-decoration-color: #00af00\">8,896</span> │\n",
              "├──────────────────────────────────────┼─────────────────────────────┼─────────────────┤\n",
              "│ max_pooling2d_1 (<span style=\"color: #0087ff; text-decoration-color: #0087ff\">MaxPooling2D</span>)       │ (<span style=\"color: #00d7ff; text-decoration-color: #00d7ff\">None</span>, <span style=\"color: #00af00; text-decoration-color: #00af00\">5</span>, <span style=\"color: #00af00; text-decoration-color: #00af00\">5</span>, <span style=\"color: #00af00; text-decoration-color: #00af00\">128</span>)           │               <span style=\"color: #00af00; text-decoration-color: #00af00\">0</span> │\n",
              "├──────────────────────────────────────┼─────────────────────────────┼─────────────────┤\n",
              "│ separable_conv2d_2 (<span style=\"color: #0087ff; text-decoration-color: #0087ff\">SeparableConv2D</span>) │ (<span style=\"color: #00d7ff; text-decoration-color: #00d7ff\">None</span>, <span style=\"color: #00af00; text-decoration-color: #00af00\">4</span>, <span style=\"color: #00af00; text-decoration-color: #00af00\">4</span>, <span style=\"color: #00af00; text-decoration-color: #00af00\">256</span>)           │          <span style=\"color: #00af00; text-decoration-color: #00af00\">33,536</span> │\n",
              "├──────────────────────────────────────┼─────────────────────────────┼─────────────────┤\n",
              "│ global_max_pooling2d                 │ (<span style=\"color: #00d7ff; text-decoration-color: #00d7ff\">None</span>, <span style=\"color: #00af00; text-decoration-color: #00af00\">256</span>)                 │               <span style=\"color: #00af00; text-decoration-color: #00af00\">0</span> │\n",
              "│ (<span style=\"color: #0087ff; text-decoration-color: #0087ff\">GlobalMaxPooling2D</span>)                 │                             │                 │\n",
              "├──────────────────────────────────────┼─────────────────────────────┼─────────────────┤\n",
              "│ dense (<span style=\"color: #0087ff; text-decoration-color: #0087ff\">Dense</span>)                        │ (<span style=\"color: #00d7ff; text-decoration-color: #00d7ff\">None</span>, <span style=\"color: #00af00; text-decoration-color: #00af00\">256</span>)                 │          <span style=\"color: #00af00; text-decoration-color: #00af00\">65,792</span> │\n",
              "├──────────────────────────────────────┼─────────────────────────────┼─────────────────┤\n",
              "│ leaky_re_lu (<span style=\"color: #0087ff; text-decoration-color: #0087ff\">LeakyReLU</span>)              │ (<span style=\"color: #00d7ff; text-decoration-color: #00d7ff\">None</span>, <span style=\"color: #00af00; text-decoration-color: #00af00\">256</span>)                 │               <span style=\"color: #00af00; text-decoration-color: #00af00\">0</span> │\n",
              "├──────────────────────────────────────┼─────────────────────────────┼─────────────────┤\n",
              "│ dense_1 (<span style=\"color: #0087ff; text-decoration-color: #0087ff\">Dense</span>)                      │ (<span style=\"color: #00d7ff; text-decoration-color: #00d7ff\">None</span>, <span style=\"color: #00af00; text-decoration-color: #00af00\">64</span>)                  │          <span style=\"color: #00af00; text-decoration-color: #00af00\">16,448</span> │\n",
              "├──────────────────────────────────────┼─────────────────────────────┼─────────────────┤\n",
              "│ leaky_re_lu_1 (<span style=\"color: #0087ff; text-decoration-color: #0087ff\">LeakyReLU</span>)            │ (<span style=\"color: #00d7ff; text-decoration-color: #00d7ff\">None</span>, <span style=\"color: #00af00; text-decoration-color: #00af00\">64</span>)                  │               <span style=\"color: #00af00; text-decoration-color: #00af00\">0</span> │\n",
              "├──────────────────────────────────────┼─────────────────────────────┼─────────────────┤\n",
              "│ dense_2 (<span style=\"color: #0087ff; text-decoration-color: #0087ff\">Dense</span>)                      │ (<span style=\"color: #00d7ff; text-decoration-color: #00d7ff\">None</span>, <span style=\"color: #00af00; text-decoration-color: #00af00\">26</span>)                  │           <span style=\"color: #00af00; text-decoration-color: #00af00\">1,690</span> │\n",
              "└──────────────────────────────────────┴─────────────────────────────┴─────────────────┘\n",
              "</pre>\n"
            ]
          },
          "metadata": {}
        },
        {
          "output_type": "display_data",
          "data": {
            "text/plain": [
              "\u001b[1m Total params: \u001b[0m\u001b[38;5;34m379,937\u001b[0m (1.45 MB)\n"
            ],
            "text/html": [
              "<pre style=\"white-space:pre;overflow-x:auto;line-height:normal;font-family:Menlo,'DejaVu Sans Mono',consolas,'Courier New',monospace\"><span style=\"font-weight: bold\"> Total params: </span><span style=\"color: #00af00; text-decoration-color: #00af00\">379,937</span> (1.45 MB)\n",
              "</pre>\n"
            ]
          },
          "metadata": {}
        },
        {
          "output_type": "display_data",
          "data": {
            "text/plain": [
              "\u001b[1m Trainable params: \u001b[0m\u001b[38;5;34m126,645\u001b[0m (494.71 KB)\n"
            ],
            "text/html": [
              "<pre style=\"white-space:pre;overflow-x:auto;line-height:normal;font-family:Menlo,'DejaVu Sans Mono',consolas,'Courier New',monospace\"><span style=\"font-weight: bold\"> Trainable params: </span><span style=\"color: #00af00; text-decoration-color: #00af00\">126,645</span> (494.71 KB)\n",
              "</pre>\n"
            ]
          },
          "metadata": {}
        },
        {
          "output_type": "display_data",
          "data": {
            "text/plain": [
              "\u001b[1m Non-trainable params: \u001b[0m\u001b[38;5;34m0\u001b[0m (0.00 B)\n"
            ],
            "text/html": [
              "<pre style=\"white-space:pre;overflow-x:auto;line-height:normal;font-family:Menlo,'DejaVu Sans Mono',consolas,'Courier New',monospace\"><span style=\"font-weight: bold\"> Non-trainable params: </span><span style=\"color: #00af00; text-decoration-color: #00af00\">0</span> (0.00 B)\n",
              "</pre>\n"
            ]
          },
          "metadata": {}
        },
        {
          "output_type": "display_data",
          "data": {
            "text/plain": [
              "\u001b[1m Optimizer params: \u001b[0m\u001b[38;5;34m253,292\u001b[0m (989.43 KB)\n"
            ],
            "text/html": [
              "<pre style=\"white-space:pre;overflow-x:auto;line-height:normal;font-family:Menlo,'DejaVu Sans Mono',consolas,'Courier New',monospace\"><span style=\"font-weight: bold\"> Optimizer params: </span><span style=\"color: #00af00; text-decoration-color: #00af00\">253,292</span> (989.43 KB)\n",
              "</pre>\n"
            ]
          },
          "metadata": {}
        }
      ]
    },
    {
      "cell_type": "code",
      "source": [
        "model = load_model('BrailleNet.keras')\n",
        "\n",
        "loss, acc = model.evaluate(val_generator)\n",
        "print('Model accuracy: {}'.format(round(acc, 4)))"
      ],
      "metadata": {
        "colab": {
          "base_uri": "https://localhost:8080/"
        },
        "id": "U7RkOBuGI-N9",
        "outputId": "26cb55f2-57af-49ff-c50c-f76071c457b7"
      },
      "execution_count": null,
      "outputs": [
        {
          "output_type": "stream",
          "name": "stdout",
          "text": [
            "\u001b[1m10/10\u001b[0m \u001b[32m━━━━━━━━━━━━━━━━━━━━\u001b[0m\u001b[37m\u001b[0m \u001b[1m1s\u001b[0m 38ms/step - accuracy: 0.9425 - loss: 0.2659\n",
            "Model accuracy: 0.9423\n"
          ]
        }
      ]
    },
    {
      "cell_type": "code",
      "source": [
        "import matplotlib.pyplot as plt\n",
        "plt.plot(history.history['loss'], label='train loss')\n",
        "plt.plot(history.history['val_loss'], label='val loss')\n",
        "plt.legend()\n",
        "plt.show()\n",
        "plt.savefig('LossVal_loss')\n",
        "\n",
        "# plot the accuracy\n",
        "plt.plot(history.history['accuracy'], label='train acc')\n",
        "plt.plot(history.history['val_accuracy'], label='val acc')\n",
        "plt.legend()\n",
        "plt.show()\n",
        "plt.savefig('AccVal_acc')"
      ],
      "metadata": {
        "colab": {
          "base_uri": "https://localhost:8080/",
          "height": 861
        },
        "id": "VT8E-Hb3JCHg",
        "outputId": "e22d4585-1e90-4319-b9bf-c8864fbee978"
      },
      "execution_count": null,
      "outputs": [
        {
          "output_type": "display_data",
          "data": {
            "text/plain": [
              "<Figure size 640x480 with 1 Axes>"
            ],
            "image/png": "[encoded data removed]"
          },
          "metadata": {}
        },
        {
          "output_type": "display_data",
          "data": {
            "text/plain": [
              "<Figure size 640x480 with 1 Axes>"
            ],
            "image/png": "[encoded data removed]"
          },
          "metadata": {}
        },
        {
          "output_type": "display_data",
          "data": {
            "text/plain": [
              "<Figure size 640x480 with 0 Axes>"
            ]
          },
          "metadata": {}
        }
      ]
    },
    {
      "cell_type": "code",
      "source": [
        "pred = model.predict(val_generator)\n",
        "pred"
      ],
      "metadata": {
        "colab": {
          "base_uri": "https://localhost:8080/"
        },
        "id": "DneG0JOLJIbQ",
        "outputId": "b9bc9f13-b908-420c-d495-6ab4db60aeca"
      },
      "execution_count": null,
      "outputs": [
        {
          "output_type": "stream",
          "name": "stdout",
          "text": [
            "\u001b[1m10/10\u001b[0m \u001b[32m━━━━━━━━━━━━━━━━━━━━\u001b[0m\u001b[37m\u001b[0m \u001b[1m1s\u001b[0m 45ms/step\n"
          ]
        },
        {
          "output_type": "execute_result",
          "data": {
            "text/plain": [
              "array([[1.5260823e-15, 4.8989591e-19, 9.2016193e-17, ..., 1.8872722e-12,\n",
              "        2.4335619e-11, 1.6759559e-05],\n",
              "       [7.1513060e-21, 1.5349151e-24, 4.9356115e-27, ..., 2.0706904e-07,\n",
              "        9.9744499e-01, 7.1091827e-11],\n",
              "       [1.0125398e-07, 2.4161278e-07, 1.7517884e-08, ..., 3.2905033e-12,\n",
              "        7.6699199e-16, 6.1924698e-07],\n",
              "       ...,\n",
              "       [4.7204571e-06, 1.3915525e-03, 1.5044102e-07, ..., 7.9484994e-07,\n",
              "        5.4198817e-06, 1.2324904e-06],\n",
              "       [1.7237641e-06, 3.9488955e-07, 8.7228422e-05, ..., 5.2526966e-13,\n",
              "        6.3001953e-13, 5.0891919e-07],\n",
              "       [2.4023456e-30, 1.3962372e-32, 8.6763357e-36, ..., 2.1123573e-11,\n",
              "        9.9999601e-01, 8.1085822e-13]], dtype=float32)"
            ]
          },
          "metadata": {},
          "execution_count": 25
        }
      ]
    },
    {
      "cell_type": "code",
      "source": [
        "from tensorflow.keras.preprocessing import image\n",
        "\n",
        "# Load the image\n",
        "img_path = '/content/braille_dataset/Braille Dataset/Braille Dataset/k1.JPG14whs.jpg'  # Adjust the file name as needed\n",
        "img = image.load_img(img_path, target_size=(28, 28))  # Resize if necessary"
      ],
      "metadata": {
        "id": "RHS4ltt3JNPW"
      },
      "execution_count": null,
      "outputs": []
    },
    {
      "cell_type": "code",
      "source": [
        "plt.imshow(img)"
      ],
      "metadata": {
        "colab": {
          "base_uri": "https://localhost:8080/",
          "height": 448
        },
        "id": "XTwRveKWJbw1",
        "outputId": "f98b2efc-db5f-4d84-e85e-062ab405c8ac"
      },
      "execution_count": null,
      "outputs": [
        {
          "output_type": "execute_result",
          "data": {
            "text/plain": [
              "<matplotlib.image.AxesImage at 0x7b529728b370>"
            ]
          },
          "metadata": {},
          "execution_count": 28
        },
        {
          "output_type": "display_data",
          "data": {
            "text/plain": [
              "<Figure size 640x480 with 1 Axes>"
            ],
            "image/png": "[encoded data removed]"
          },
          "metadata": {}
        }
      ]
    },
    {
      "cell_type": "code",
      "source": [
        "x=image.img_to_array(img)\n",
        "x"
      ],
      "metadata": {
        "colab": {
          "base_uri": "https://localhost:8080/"
        },
        "id": "Ww277uisJevx",
        "outputId": "3c9887d5-62ab-475f-d038-e903e7e72757"
      },
      "execution_count": null,
      "outputs": [
        {
          "output_type": "execute_result",
          "data": {
            "text/plain": [
              "array([[[252., 252., 252.],\n",
              "        [252., 252., 252.],\n",
              "        [246., 246., 246.],\n",
              "        ...,\n",
              "        [254., 254., 254.],\n",
              "        [254., 254., 254.],\n",
              "        [253., 253., 253.]],\n",
              "\n",
              "       [[251., 251., 251.],\n",
              "        [252., 252., 252.],\n",
              "        [250., 250., 250.],\n",
              "        ...,\n",
              "        [253., 253., 253.],\n",
              "        [254., 254., 254.],\n",
              "        [254., 254., 254.]],\n",
              "\n",
              "       [[246., 246., 246.],\n",
              "        [248., 248., 248.],\n",
              "        [248., 248., 248.],\n",
              "        ...,\n",
              "        [248., 248., 248.],\n",
              "        [249., 249., 249.],\n",
              "        [250., 250., 250.]],\n",
              "\n",
              "       ...,\n",
              "\n",
              "       [[249., 249., 249.],\n",
              "        [250., 250., 250.],\n",
              "        [250., 250., 250.],\n",
              "        ...,\n",
              "        [242., 242., 242.],\n",
              "        [246., 246., 246.],\n",
              "        [249., 249., 249.]],\n",
              "\n",
              "       [[247., 247., 247.],\n",
              "        [252., 252., 252.],\n",
              "        [254., 254., 254.],\n",
              "        ...,\n",
              "        [254., 254., 254.],\n",
              "        [254., 254., 254.],\n",
              "        [255., 255., 255.]],\n",
              "\n",
              "       [[251., 251., 251.],\n",
              "        [255., 255., 255.],\n",
              "        [255., 255., 255.],\n",
              "        ...,\n",
              "        [255., 255., 255.],\n",
              "        [255., 255., 255.],\n",
              "        [255., 255., 255.]]], dtype=float32)"
            ]
          },
          "metadata": {},
          "execution_count": 29
        }
      ]
    },
    {
      "cell_type": "code",
      "source": [
        "x.shape"
      ],
      "metadata": {
        "colab": {
          "base_uri": "https://localhost:8080/"
        },
        "id": "0Al8jSmUJ-jE",
        "outputId": "b7ad37db-fec6-4299-8d05-d69536b1e41b"
      },
      "execution_count": null,
      "outputs": [
        {
          "output_type": "execute_result",
          "data": {
            "text/plain": [
              "(28, 28, 3)"
            ]
          },
          "metadata": {},
          "execution_count": 30
        }
      ]
    },
    {
      "cell_type": "code",
      "source": [
        "x=np.expand_dims(x,axis=0)\n",
        "model.predict(x)"
      ],
      "metadata": {
        "colab": {
          "base_uri": "https://localhost:8080/"
        },
        "id": "7lp4byqAKBZI",
        "outputId": "7d281678-69c4-4e95-e55f-b5ea8e102e42"
      },
      "execution_count": null,
      "outputs": [
        {
          "output_type": "stream",
          "name": "stdout",
          "text": [
            "\u001b[1m1/1\u001b[0m \u001b[32m━━━━━━━━━━━━━━━━━━━━\u001b[0m\u001b[37m\u001b[0m \u001b[1m0s\u001b[0m 107ms/step\n"
          ]
        },
        {
          "output_type": "execute_result",
          "data": {
            "text/plain": [
              "array([[2.0767488e-05, 2.3982457e-13, 2.0157007e-07, 1.4361808e-16,\n",
              "        1.3086386e-04, 2.4113340e-15, 1.0191171e-21, 1.7392768e-17,\n",
              "        1.6644202e-05, 1.3100939e-16, 9.9975187e-01, 3.0074600e-17,\n",
              "        5.2056168e-11, 1.8052788e-08, 1.8195600e-05, 9.2040525e-12,\n",
              "        3.5401731e-29, 2.8937608e-15, 2.2383886e-06, 3.7807570e-17,\n",
              "        5.9101745e-05, 7.0546562e-18, 3.3595806e-27, 7.0105410e-10,\n",
              "        2.6260729e-20, 1.2946856e-08]], dtype=float32)"
            ]
          },
          "metadata": {},
          "execution_count": 31
        }
      ]
    },
    {
      "cell_type": "code",
      "source": [
        "a=np.argmax(model.predict(x), axis=1)\n",
        "a"
      ],
      "metadata": {
        "colab": {
          "base_uri": "https://localhost:8080/"
        },
        "id": "d47pwVYtKDIn",
        "outputId": "f60ce4e9-7048-4439-b640-526a35637d38"
      },
      "execution_count": null,
      "outputs": [
        {
          "output_type": "stream",
          "name": "stdout",
          "text": [
            "\u001b[1m1/1\u001b[0m \u001b[32m━━━━━━━━━━━━━━━━━━━━\u001b[0m\u001b[37m\u001b[0m \u001b[1m0s\u001b[0m 30ms/step\n"
          ]
        },
        {
          "output_type": "execute_result",
          "data": {
            "text/plain": [
              "array([10])"
            ]
          },
          "metadata": {},
          "execution_count": 32
        }
      ]
    },
    {
      "cell_type": "code",
      "source": [
        "alphabet = 'abcdefghijklmnopqrstuvwxyz'\n",
        "predicted_letter = alphabet[a[0]]\n",
        "\n",
        "print('Predicted letter:', predicted_letter)"
      ],
      "metadata": {
        "colab": {
          "base_uri": "https://localhost:8080/"
        },
        "id": "NpRDVeqv7tWN",
        "outputId": "307dcf0f-f7f9-486e-fa19-8fdec016f42e"
      },
      "execution_count": null,
      "outputs": [
        {
          "output_type": "stream",
          "name": "stdout",
          "text": [
            "Predicted letter: k\n"
          ]
        }
      ]
    },
    {
      "cell_type": "code",
      "source": [
        "import cv2\n",
        "import numpy as np\n",
        "\n",
        "def preprocess_image(image_path):\n",
        "    image = cv2.imread(image_path, cv2.IMREAD_GRAYSCALE)\n",
        "    _, binary_image = cv2.threshold(image, 127, 255, cv2.THRESH_BINARY_INV)\n",
        "    return binary_image\n",
        "\n",
        "binary_image = preprocess_image('/content/Grade-2-Braille-Example.jpg')\n"
      ],
      "metadata": {
        "id": "GxXsCWXE_yBO"
      },
      "execution_count": null,
      "outputs": []
    },
    {
      "cell_type": "code",
      "source": [
        "binary_image"
      ],
      "metadata": {
        "colab": {
          "base_uri": "https://localhost:8080/",
          "height": 134
        },
        "id": "cbAWrZZqAfFk",
        "outputId": "cc52f81e-659f-4a94-8e87-c93ae190fe28"
      },
      "execution_count": null,
      "outputs": [
        {
          "output_type": "execute_result",
          "data": {
            "text/plain": [
              "array([[0, 0, 0, ..., 0, 0, 0],\n",
              "       [0, 0, 0, ..., 0, 0, 0],\n",
              "       [0, 0, 0, ..., 0, 0, 0],\n",
              "       ...,\n",
              "       [0, 0, 0, ..., 0, 0, 0],\n",
              "       [0, 0, 0, ..., 0, 0, 0],\n",
              "       [0, 0, 0, ..., 0, 0, 0]], dtype=uint8)"
            ],
            "text/html": [
              "<style>\n",
              "      .ndarray_repr .ndarray_raw_data {\n",
              "        display: none;\n",
              "      }\n",
              "      .ndarray_repr.show_array .ndarray_raw_data {\n",
              "        display: block;\n",
              "      }\n",
              "      .ndarray_repr.show_array .ndarray_image_preview {\n",
              "        display: none;\n",
              "      }\n",
              "      </style>\n",
              "      <div id=\"id-87ede3e9-6e2b-4994-a5e4-7c6fc5ae0470\" class=\"ndarray_repr\"><pre>ndarray (95, 701) <button style=\"padding: 0 2px;\">show data</button></pre><img src=\"data:image/png;base64,iVBORw0KGgoAAAANSUhEUgAAAr0AAABfCAAAAADAXCCkAAADoklEQVR4nO3d0ZacIAyAYenp+78yvWjP1lGCQUNMmP+72dFWDZJ12BmM2wYAAAAAAAAAAPCm8nYA+GZ127ZGEv5dfZ2c5tkrHViIM7DkLUkQfv15Vdrrr6K0boVwYCnOwISQs7QkQfh197q0V19EadsG6cBCnIElb0mG8D9i3EUzkL2/DMMRVXEhm+QtyRB+7SwdmWbvyIFjS96SDOHX7uLl+m3bmtlb2xsIqzvq4acmnqEdH1dP7ybzlviY0BHSuZ7fB3vn7K3tZgmr31DbkUyMcG7LxctFlBN+Jp3r530wtLnLuNde3H4dF+i6kE0ze4U/9N7+I3UnUCgzhc3qInfBw64Z2vy3dvNA+RI/wlGTMmGiGH1wzl44y5e6nrpnYea4N8bvp4XkLQkZfuku6phmb8izdEvylmQOv3SWjiZeezOfwk+l8eq4EFjQjpDO5UBcxk3Y/ZEcdnKITvaWJJil8z+aYyzS+iOvGZLaeALptyR8Q9bpCAAAAAAAAAAAgKi8vnLJ8g3V+gJVI3nMqRWxvl7/Ymt1hM99bbX5Eu4W6wiqkXyT1Toi6T3FuGOBfP10Hv1UYUhUb4+UjidthRFXSoYdIWSDlDyTqO/KrNtWdYFNb4FwgLpNKCpo/IssHGZOJkzsiE42KLPk/46kzlTspzlyePwO412SyfdAxuVDOruL3xETKWJXVyPp1J/Q7cAUg493zatGMrSjCWlwuuinHfeuNnKI2BGPBiAeDYh40r7Sch3h8YmZRd0JGFiuI/i8F3m5ZG/KGh4rWq0jfK699yqlwNxiHeHWhpUm5qVGRwAAAAAAAAAAolF+ak3FbcwhzpA0m98rPcOh838pOI9rHs+t+JgW2t8g+7NK4GifV6W9/iJbhmfpdO82qu3X+4edZ77TCpak4hJCErUosvduvgnbkb7Q62fL+AzJzv7IV6hVYXEkW87ZW6tVtpHM6xKSxC55fvbY+8dmNZKxghK6Axl6uxqJcZUP+c7lOdVILMI3q0bS2rOe5b0Vjh8nvFqNxP743tVIVnn7U1cjiSV+hCbCNtOjGonCOXtLCXvO/pGfeW4f+eOyQqpDTDvj08IXksQ5eYa/rehtcXhDKu3Vca8ocCRlxUi2UI0EIdwaiGiyV10FoHSWgA+6dO0nkera+7QKwGpFMGDBICu0W2mrAAjTcZilgzMpK2p79Zl5MkkPZqMIBs6krCBbAAAAAAAAAAAAAAAAAAAAAAAAgIX9AfUQ7U1gll+zAAAAAElFTkSuQmCC\" class=\"ndarray_image_preview\" /><pre class=\"ndarray_raw_data\">array([[0, 0, 0, ..., 0, 0, 0],\n",
              "       [0, 0, 0, ..., 0, 0, 0],\n",
              "       [0, 0, 0, ..., 0, 0, 0],\n",
              "       ...,\n",
              "       [0, 0, 0, ..., 0, 0, 0],\n",
              "       [0, 0, 0, ..., 0, 0, 0],\n",
              "       [0, 0, 0, ..., 0, 0, 0]], dtype=uint8)</pre></div><script>\n",
              "      (() => {\n",
              "      const titles = ['show data', 'hide data'];\n",
              "      let index = 0\n",
              "      document.querySelector('#id-87ede3e9-6e2b-4994-a5e4-7c6fc5ae0470 button').onclick = (e) => {\n",
              "        document.querySelector('#id-87ede3e9-6e2b-4994-a5e4-7c6fc5ae0470').classList.toggle('show_array');\n",
              "        index = (++index) % 2;\n",
              "        document.querySelector('#id-87ede3e9-6e2b-4994-a5e4-7c6fc5ae0470 button').textContent = titles[index];\n",
              "        e.preventDefault();\n",
              "        e.stopPropagation();\n",
              "      }\n",
              "      })();\n",
              "    </script>"
            ]
          },
          "metadata": {},
          "execution_count": 37
        }
      ]
    },
    {
      "cell_type": "markdown",
      "source": [
        "## In Progress.................\n"
      ],
      "metadata": {
        "id": "MqXzL4YtYJvl"
      }
    }
  ]
}